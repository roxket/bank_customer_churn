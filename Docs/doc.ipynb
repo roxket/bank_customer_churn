{
 "cells": [
  {
   "attachments": {},
   "cell_type": "markdown",
   "metadata": {},
   "source": [
    "# Reduce clients' loss in an insurance company\n",
    "\n",
    "# 🖼️ Background\n",
    "\n",
    "Somos un banco que dispone de una base de datos con una gran cantidad de información sobre nuestros clientes. \n",
    "\n",
    "Nuestro objetivo es ayudar a los analistas a predecir la tasa de abandono de estos clientes para así poder reducirla. \n",
    "\n",
    "La base de datos incluye información demográfica como la edad, el sexo, el estado civil y la categoría de ingresos. \n",
    "\n",
    "También contiene información sobre el tipo de tarjeta, el número de meses en cartera y los periodos inactivos. \n",
    "\n",
    "Además, dispone de datos clave sobre el comportamiento de gasto de los clientes que se acercan a su decisión de cancelación. \n",
    "\n",
    "Entre esta última información hay el saldo total renovable, el límite de crédito, la tasa media de apertura a la compra y métricas analizables como el importe total del cambio del cuarto trimestre al primero o el índice medio de utilización.\n",
    "\n",
    "Frente a este conjunto de datos podemos capturar información actualizada que puede determinar la estabilidad de la cuenta a largo plazo o su salida inminente.\n",
    "\n",
    "\n",
    "# 📁 Dataset\n",
    "\n",
    "- CLIENTNUM: Identificador único para cada cliente. (Integer)\n",
    "- Attrition_Flag: Indicador de si el cliente ha abandonado el banco o se queda (Boolean)\n",
    "\t- Attrited Customer -> 0\n",
    "\t- Existing Customer -> 1\n",
    "- Customer_Age: Edad del cliente. (Integer)\n",
    "- Gender: Sexo del cliente. (String)\n",
    "- Dependent_count: Número de personas a cargo que tiene el cliente. (Integer)\n",
    "- Education_Level: Nivel educativo del cliente. (String)\n",
    "- Marital_Status: Marital status of customer. (String)\n",
    "- Income_Category: Categoría de ingresos del cliente. (String)\n",
    "- Card_Category: Tipo de tarjeta del cliente. (String)\n",
    "- Months_on_book: El tiempo que el cliente ha estado en los libros. (Integer)\n",
    "- Total_Relationship_Count: Número total de relaciones que tiene el cliente con el proveedor de la tarjeta de crédito. (Integer)\n",
    "- Months_Inactive_12_mon: Número de meses que el cliente ha estado inactivo en los últimos doce meses.(Integer)\n",
    "- Contacts_Count_12_mon: Número de contactos que ha tenido el cliente en los últimos doce meses. (Integer)\n",
    "- Credit_Limit: Límite de crédito del cliente. (Integer)\n",
    "- Total_Revolving_Bal: Saldo renovable total del cliente. (Integer)\n",
    "- Avg_Open_To_Buy: Ratio medio de apertura a la compra del cliente. (Integer)\n",
    "- Total_Amt_Chng_Q4_Q1: Importe total cambiado del trimestre 4 al trimestre 1. (Integer)\n",
    "- Total_Trans_Amt: Importe total de la transacción. (Integer)\n",
    "- Total_Trans_Ct: Recuento total de transacciones. (Integer)\n",
    "- Total_Ct_Chng_Q4_Q1: Recuento total cambiado del trimestre 4 al trimestre 1. (Integer)\n",
    "- Avg_Utilization_Ratio: Ratio de utilización media del cliente. (Integer)\n",
    "\n",
    "# 📌 Task\n",
    "\n",
    "Crea un modelo predictivo de clasificación para poder clasificar los datos del archivo de testing. Primero entrena tu modelo con el conjunto de datos de training y una vez que tengas el modelo que maximice la puntuación f1 (macro.) utiliza los datos de testing como entrada para tu modelo."
   ]
  }
 ],
 "metadata": {
  "language_info": {
   "name": "python"
  },
  "orig_nbformat": 4
 },
 "nbformat": 4,
 "nbformat_minor": 2
}
